{
 "cells": [
  {
   "cell_type": "code",
   "execution_count": 1,
   "metadata": {},
   "outputs": [],
   "source": [
    "import requests\n",
    "from bs4 import BeautifulSoup  \n",
    "import pandas as pd\n",
    "import pandas as pd\n",
    "import matplotlib.pyplot as plt\n",
    "import seaborn as sns\n",
    "%matplotlib inline      "
   ]
  },
  {
   "cell_type": "markdown",
   "metadata": {},
   "source": [
    "# Reading in Saved Data From Webscraping"
   ]
  },
  {
   "cell_type": "code",
   "execution_count": 2,
   "metadata": {},
   "outputs": [],
   "source": [
    "full_2016 = pd.read_csv('../data/full_2016.csv')\n",
    "full_2017 = pd.read_csv('../data/full_2017.csv')\n",
    "full_2018 = pd.read_csv('../data/full_2018.csv')\n",
    "full_2019 = pd.read_csv('../data/full_2019.csv')\n",
    "half_2016 = pd.read_csv('../data/half_2016.csv')\n",
    "half_2017 = pd.read_csv('../data/half_2017.csv')\n",
    "half_2018 = pd.read_csv('../data/half_2018.csv')\n",
    "half_2019 = pd.read_csv('../data/half_2019.csv')"
   ]
  },
  {
   "cell_type": "markdown",
   "metadata": {},
   "source": [
    "# Removing Index Columns"
   ]
  },
  {
   "cell_type": "code",
   "execution_count": 3,
   "metadata": {},
   "outputs": [],
   "source": [
    "full_2016 = full_2016[['Overall', 'Bib', 'Name', 'Time']]\n",
    "full_2017 = full_2017[['Overall', 'Bib', 'Name', 'Time']]\n",
    "full_2018 = full_2018[['Overall', 'Bib', 'Name', 'Time']]\n",
    "full_2019 = full_2019[['Overall', 'Bib', 'Name', 'Time']]\n",
    "half_2016 = half_2016[['Overall', 'Bib', 'Name', 'Time']]\n",
    "half_2017 = half_2017[['Overall', 'Bib', 'Name', 'Time']]\n",
    "half_2018 = half_2018[['Overall', 'Bib', 'Name', 'Time']]\n",
    "half_2019 = half_2019[['Overall', 'Bib', 'Name', 'Time']]"
   ]
  },
  {
   "cell_type": "markdown",
   "metadata": {},
   "source": [
    "# Adding Minutes Column"
   ]
  },
  {
   "cell_type": "code",
   "execution_count": 4,
   "metadata": {},
   "outputs": [],
   "source": [
    "full_2016['Minutes'] = full_2016['Time'].str.split(':').apply(lambda x: int(x[0]) * 60 + int(x[1]))\n",
    "full_2017['Minutes'] = full_2017['Time'].str.split(':').apply(lambda x: int(x[0]) * 60 + int(x[1]))\n",
    "full_2018['Minutes'] = full_2018['Time'].str.split(':').apply(lambda x: int(x[0]) * 60 + int(x[1]))\n",
    "full_2019['Minutes'] = full_2019['Time'].str.split(':').apply(lambda x: int(x[0]) * 60 + int(x[1]))\n",
    "half_2016['Minutes'] = half_2016['Time'].str.split(':').apply(lambda x: int(x[0]) * 60 + int(x[1]))\n",
    "half_2017['Minutes'] = half_2017['Time'].str.split(':').apply(lambda x: int(x[0]) * 60 + int(x[1]))\n",
    "half_2018['Minutes'] = half_2018['Time'].str.split(':').apply(lambda x: int(x[0]) * 60 + int(x[1]))\n",
    "half_2019['Minutes'] = half_2019['Time'].str.split(':').apply(lambda x: int(x[0]) * 60 + int(x[1]))"
   ]
  },
  {
   "cell_type": "markdown",
   "metadata": {},
   "source": [
    "# Adding Average Minutes Per Mile"
   ]
  },
  {
   "cell_type": "code",
   "execution_count": 5,
   "metadata": {},
   "outputs": [],
   "source": [
    "full_2016['minutes_per_mile'] = full_2016['Minutes'] / 26.2\n",
    "full_2017['minutes_per_mile'] = full_2017['Minutes'] / 26.2\n",
    "full_2018['minutes_per_mile'] = full_2018['Minutes'] / 26.2\n",
    "full_2019['minutes_per_mile'] = full_2019['Minutes'] / 26.2\n",
    "half_2016['minutes_per_mile'] = half_2016['Minutes'] / 13.1\n",
    "half_2017['minutes_per_mile'] = half_2017['Minutes'] / 13.1\n",
    "half_2018['minutes_per_mile'] = half_2018['Minutes'] / 13.1\n",
    "half_2019['minutes_per_mile'] = half_2019['Minutes'] / 13.1"
   ]
  },
  {
   "cell_type": "markdown",
   "metadata": {},
   "source": [
    "# Top 5 Runners From Each Full/Half Marathon"
   ]
  },
  {
   "cell_type": "markdown",
   "metadata": {},
   "source": [
    "## Full 2016"
   ]
  },
  {
   "cell_type": "code",
   "execution_count": 6,
   "metadata": {},
   "outputs": [
    {
     "data": {
      "text/html": [
       "<div>\n",
       "<style scoped>\n",
       "    .dataframe tbody tr th:only-of-type {\n",
       "        vertical-align: middle;\n",
       "    }\n",
       "\n",
       "    .dataframe tbody tr th {\n",
       "        vertical-align: top;\n",
       "    }\n",
       "\n",
       "    .dataframe thead th {\n",
       "        text-align: right;\n",
       "    }\n",
       "</style>\n",
       "<table border=\"1\" class=\"dataframe\">\n",
       "  <thead>\n",
       "    <tr style=\"text-align: right;\">\n",
       "      <th></th>\n",
       "      <th>Overall</th>\n",
       "      <th>Bib</th>\n",
       "      <th>Name</th>\n",
       "      <th>Time</th>\n",
       "      <th>Minutes</th>\n",
       "      <th>minutes_per_mile</th>\n",
       "    </tr>\n",
       "  </thead>\n",
       "  <tbody>\n",
       "    <tr>\n",
       "      <th>0</th>\n",
       "      <td>1</td>\n",
       "      <td>1</td>\n",
       "      <td>Scott Wietecha</td>\n",
       "      <td>02:25:42</td>\n",
       "      <td>145</td>\n",
       "      <td>5.534351</td>\n",
       "    </tr>\n",
       "    <tr>\n",
       "      <th>1</th>\n",
       "      <td>2</td>\n",
       "      <td>3</td>\n",
       "      <td>Brian Shelton</td>\n",
       "      <td>02:34:43</td>\n",
       "      <td>154</td>\n",
       "      <td>5.877863</td>\n",
       "    </tr>\n",
       "    <tr>\n",
       "      <th>2</th>\n",
       "      <td>3</td>\n",
       "      <td>1047</td>\n",
       "      <td>Christopher Capps</td>\n",
       "      <td>02:38:43</td>\n",
       "      <td>158</td>\n",
       "      <td>6.030534</td>\n",
       "    </tr>\n",
       "    <tr>\n",
       "      <th>3</th>\n",
       "      <td>4</td>\n",
       "      <td>1052</td>\n",
       "      <td>Jason Grimes</td>\n",
       "      <td>02:45:06</td>\n",
       "      <td>165</td>\n",
       "      <td>6.297710</td>\n",
       "    </tr>\n",
       "    <tr>\n",
       "      <th>4</th>\n",
       "      <td>5</td>\n",
       "      <td>1046</td>\n",
       "      <td>David Adams</td>\n",
       "      <td>02:47:28</td>\n",
       "      <td>167</td>\n",
       "      <td>6.374046</td>\n",
       "    </tr>\n",
       "  </tbody>\n",
       "</table>\n",
       "</div>"
      ],
      "text/plain": [
       "   Overall   Bib               Name      Time  Minutes  minutes_per_mile\n",
       "0        1     1     Scott Wietecha  02:25:42      145          5.534351\n",
       "1        2     3      Brian Shelton  02:34:43      154          5.877863\n",
       "2        3  1047  Christopher Capps  02:38:43      158          6.030534\n",
       "3        4  1052       Jason Grimes  02:45:06      165          6.297710\n",
       "4        5  1046        David Adams  02:47:28      167          6.374046"
      ]
     },
     "execution_count": 6,
     "metadata": {},
     "output_type": "execute_result"
    }
   ],
   "source": [
    "full_2016.head()"
   ]
  },
  {
   "cell_type": "markdown",
   "metadata": {},
   "source": [
    "## Full 2017"
   ]
  },
  {
   "cell_type": "code",
   "execution_count": 7,
   "metadata": {},
   "outputs": [
    {
     "data": {
      "text/html": [
       "<div>\n",
       "<style scoped>\n",
       "    .dataframe tbody tr th:only-of-type {\n",
       "        vertical-align: middle;\n",
       "    }\n",
       "\n",
       "    .dataframe tbody tr th {\n",
       "        vertical-align: top;\n",
       "    }\n",
       "\n",
       "    .dataframe thead th {\n",
       "        text-align: right;\n",
       "    }\n",
       "</style>\n",
       "<table border=\"1\" class=\"dataframe\">\n",
       "  <thead>\n",
       "    <tr style=\"text-align: right;\">\n",
       "      <th></th>\n",
       "      <th>Overall</th>\n",
       "      <th>Bib</th>\n",
       "      <th>Name</th>\n",
       "      <th>Time</th>\n",
       "      <th>Minutes</th>\n",
       "      <th>minutes_per_mile</th>\n",
       "    </tr>\n",
       "  </thead>\n",
       "  <tbody>\n",
       "    <tr>\n",
       "      <th>0</th>\n",
       "      <td>1</td>\n",
       "      <td>1</td>\n",
       "      <td>Scott Wietecha</td>\n",
       "      <td>02:40:25</td>\n",
       "      <td>160</td>\n",
       "      <td>6.106870</td>\n",
       "    </tr>\n",
       "    <tr>\n",
       "      <th>1</th>\n",
       "      <td>2</td>\n",
       "      <td>1145</td>\n",
       "      <td>Ryan Regnier</td>\n",
       "      <td>02:56:28</td>\n",
       "      <td>176</td>\n",
       "      <td>6.717557</td>\n",
       "    </tr>\n",
       "    <tr>\n",
       "      <th>2</th>\n",
       "      <td>3</td>\n",
       "      <td>1147</td>\n",
       "      <td>Daniel Everett</td>\n",
       "      <td>03:00:55</td>\n",
       "      <td>180</td>\n",
       "      <td>6.870229</td>\n",
       "    </tr>\n",
       "    <tr>\n",
       "      <th>3</th>\n",
       "      <td>4</td>\n",
       "      <td>1029</td>\n",
       "      <td>Khris Vickroy</td>\n",
       "      <td>03:04:47</td>\n",
       "      <td>184</td>\n",
       "      <td>7.022901</td>\n",
       "    </tr>\n",
       "    <tr>\n",
       "      <th>4</th>\n",
       "      <td>5</td>\n",
       "      <td>1119</td>\n",
       "      <td>Marcus Dilallo</td>\n",
       "      <td>03:04:53</td>\n",
       "      <td>184</td>\n",
       "      <td>7.022901</td>\n",
       "    </tr>\n",
       "  </tbody>\n",
       "</table>\n",
       "</div>"
      ],
      "text/plain": [
       "   Overall   Bib            Name      Time  Minutes  minutes_per_mile\n",
       "0        1     1  Scott Wietecha  02:40:25      160          6.106870\n",
       "1        2  1145    Ryan Regnier  02:56:28      176          6.717557\n",
       "2        3  1147  Daniel Everett  03:00:55      180          6.870229\n",
       "3        4  1029   Khris Vickroy  03:04:47      184          7.022901\n",
       "4        5  1119  Marcus Dilallo  03:04:53      184          7.022901"
      ]
     },
     "execution_count": 7,
     "metadata": {},
     "output_type": "execute_result"
    }
   ],
   "source": [
    "full_2017.head()"
   ]
  },
  {
   "cell_type": "markdown",
   "metadata": {},
   "source": [
    "## Full 2018"
   ]
  },
  {
   "cell_type": "code",
   "execution_count": 8,
   "metadata": {},
   "outputs": [
    {
     "data": {
      "text/html": [
       "<div>\n",
       "<style scoped>\n",
       "    .dataframe tbody tr th:only-of-type {\n",
       "        vertical-align: middle;\n",
       "    }\n",
       "\n",
       "    .dataframe tbody tr th {\n",
       "        vertical-align: top;\n",
       "    }\n",
       "\n",
       "    .dataframe thead th {\n",
       "        text-align: right;\n",
       "    }\n",
       "</style>\n",
       "<table border=\"1\" class=\"dataframe\">\n",
       "  <thead>\n",
       "    <tr style=\"text-align: right;\">\n",
       "      <th></th>\n",
       "      <th>Overall</th>\n",
       "      <th>Bib</th>\n",
       "      <th>Name</th>\n",
       "      <th>Time</th>\n",
       "      <th>Minutes</th>\n",
       "      <th>minutes_per_mile</th>\n",
       "    </tr>\n",
       "  </thead>\n",
       "  <tbody>\n",
       "    <tr>\n",
       "      <th>0</th>\n",
       "      <td>1</td>\n",
       "      <td>1</td>\n",
       "      <td>Scott Wietecha</td>\n",
       "      <td>02:28:16</td>\n",
       "      <td>148</td>\n",
       "      <td>5.648855</td>\n",
       "    </tr>\n",
       "    <tr>\n",
       "      <th>1</th>\n",
       "      <td>2</td>\n",
       "      <td>3</td>\n",
       "      <td>Garang Madut</td>\n",
       "      <td>02:29:52</td>\n",
       "      <td>149</td>\n",
       "      <td>5.687023</td>\n",
       "    </tr>\n",
       "    <tr>\n",
       "      <th>2</th>\n",
       "      <td>3</td>\n",
       "      <td>33442</td>\n",
       "      <td>Kevin Fink</td>\n",
       "      <td>02:38:59</td>\n",
       "      <td>158</td>\n",
       "      <td>6.030534</td>\n",
       "    </tr>\n",
       "    <tr>\n",
       "      <th>3</th>\n",
       "      <td>4</td>\n",
       "      <td>33441</td>\n",
       "      <td>Andrew Hodges</td>\n",
       "      <td>02:43:59</td>\n",
       "      <td>163</td>\n",
       "      <td>6.221374</td>\n",
       "    </tr>\n",
       "    <tr>\n",
       "      <th>4</th>\n",
       "      <td>5</td>\n",
       "      <td>30028</td>\n",
       "      <td>Nicholas Aubert</td>\n",
       "      <td>02:48:11</td>\n",
       "      <td>168</td>\n",
       "      <td>6.412214</td>\n",
       "    </tr>\n",
       "  </tbody>\n",
       "</table>\n",
       "</div>"
      ],
      "text/plain": [
       "   Overall    Bib             Name      Time  Minutes  minutes_per_mile\n",
       "0        1      1   Scott Wietecha  02:28:16      148          5.648855\n",
       "1        2      3     Garang Madut  02:29:52      149          5.687023\n",
       "2        3  33442       Kevin Fink  02:38:59      158          6.030534\n",
       "3        4  33441    Andrew Hodges  02:43:59      163          6.221374\n",
       "4        5  30028  Nicholas Aubert  02:48:11      168          6.412214"
      ]
     },
     "execution_count": 8,
     "metadata": {},
     "output_type": "execute_result"
    }
   ],
   "source": [
    "full_2018.head()"
   ]
  },
  {
   "cell_type": "markdown",
   "metadata": {},
   "source": [
    "## Full 2019"
   ]
  },
  {
   "cell_type": "code",
   "execution_count": 9,
   "metadata": {},
   "outputs": [
    {
     "data": {
      "text/html": [
       "<div>\n",
       "<style scoped>\n",
       "    .dataframe tbody tr th:only-of-type {\n",
       "        vertical-align: middle;\n",
       "    }\n",
       "\n",
       "    .dataframe tbody tr th {\n",
       "        vertical-align: top;\n",
       "    }\n",
       "\n",
       "    .dataframe thead th {\n",
       "        text-align: right;\n",
       "    }\n",
       "</style>\n",
       "<table border=\"1\" class=\"dataframe\">\n",
       "  <thead>\n",
       "    <tr style=\"text-align: right;\">\n",
       "      <th></th>\n",
       "      <th>Overall</th>\n",
       "      <th>Bib</th>\n",
       "      <th>Name</th>\n",
       "      <th>Time</th>\n",
       "      <th>Minutes</th>\n",
       "      <th>minutes_per_mile</th>\n",
       "    </tr>\n",
       "  </thead>\n",
       "  <tbody>\n",
       "    <tr>\n",
       "      <th>0</th>\n",
       "      <td>1</td>\n",
       "      <td>30001</td>\n",
       "      <td>Travis Peruski</td>\n",
       "      <td>01:37:54</td>\n",
       "      <td>97</td>\n",
       "      <td>3.702290</td>\n",
       "    </tr>\n",
       "    <tr>\n",
       "      <th>1</th>\n",
       "      <td>2</td>\n",
       "      <td>1</td>\n",
       "      <td>Scott Wietecha</td>\n",
       "      <td>02:34:59</td>\n",
       "      <td>154</td>\n",
       "      <td>5.877863</td>\n",
       "    </tr>\n",
       "    <tr>\n",
       "      <th>2</th>\n",
       "      <td>3</td>\n",
       "      <td>4</td>\n",
       "      <td>Jordan Wilson</td>\n",
       "      <td>02:35:24</td>\n",
       "      <td>155</td>\n",
       "      <td>5.916031</td>\n",
       "    </tr>\n",
       "    <tr>\n",
       "      <th>3</th>\n",
       "      <td>4</td>\n",
       "      <td>30034</td>\n",
       "      <td>Steelton Flynn</td>\n",
       "      <td>02:39:59</td>\n",
       "      <td>159</td>\n",
       "      <td>6.068702</td>\n",
       "    </tr>\n",
       "    <tr>\n",
       "      <th>4</th>\n",
       "      <td>5</td>\n",
       "      <td>30035</td>\n",
       "      <td>Thomas Ellis</td>\n",
       "      <td>02:42:09</td>\n",
       "      <td>162</td>\n",
       "      <td>6.183206</td>\n",
       "    </tr>\n",
       "  </tbody>\n",
       "</table>\n",
       "</div>"
      ],
      "text/plain": [
       "   Overall    Bib            Name      Time  Minutes  minutes_per_mile\n",
       "0        1  30001  Travis Peruski  01:37:54       97          3.702290\n",
       "1        2      1  Scott Wietecha  02:34:59      154          5.877863\n",
       "2        3      4   Jordan Wilson  02:35:24      155          5.916031\n",
       "3        4  30034  Steelton Flynn  02:39:59      159          6.068702\n",
       "4        5  30035    Thomas Ellis  02:42:09      162          6.183206"
      ]
     },
     "execution_count": 9,
     "metadata": {},
     "output_type": "execute_result"
    }
   ],
   "source": [
    "full_2019.head()"
   ]
  },
  {
   "cell_type": "markdown",
   "metadata": {},
   "source": [
    "## Half 2016"
   ]
  },
  {
   "cell_type": "code",
   "execution_count": 10,
   "metadata": {},
   "outputs": [
    {
     "data": {
      "text/html": [
       "<div>\n",
       "<style scoped>\n",
       "    .dataframe tbody tr th:only-of-type {\n",
       "        vertical-align: middle;\n",
       "    }\n",
       "\n",
       "    .dataframe tbody tr th {\n",
       "        vertical-align: top;\n",
       "    }\n",
       "\n",
       "    .dataframe thead th {\n",
       "        text-align: right;\n",
       "    }\n",
       "</style>\n",
       "<table border=\"1\" class=\"dataframe\">\n",
       "  <thead>\n",
       "    <tr style=\"text-align: right;\">\n",
       "      <th></th>\n",
       "      <th>Overall</th>\n",
       "      <th>Bib</th>\n",
       "      <th>Name</th>\n",
       "      <th>Time</th>\n",
       "      <th>Minutes</th>\n",
       "      <th>minutes_per_mile</th>\n",
       "    </tr>\n",
       "  </thead>\n",
       "  <tbody>\n",
       "    <tr>\n",
       "      <th>0</th>\n",
       "      <td>1</td>\n",
       "      <td>201</td>\n",
       "      <td>Roosevelt Cook</td>\n",
       "      <td>01:11:15</td>\n",
       "      <td>71</td>\n",
       "      <td>5.419847</td>\n",
       "    </tr>\n",
       "    <tr>\n",
       "      <th>1</th>\n",
       "      <td>2</td>\n",
       "      <td>204</td>\n",
       "      <td>Bill Martin</td>\n",
       "      <td>01:11:50</td>\n",
       "      <td>71</td>\n",
       "      <td>5.419847</td>\n",
       "    </tr>\n",
       "    <tr>\n",
       "      <th>2</th>\n",
       "      <td>3</td>\n",
       "      <td>1623</td>\n",
       "      <td>Cody Hodgins</td>\n",
       "      <td>01:13:43</td>\n",
       "      <td>73</td>\n",
       "      <td>5.572519</td>\n",
       "    </tr>\n",
       "    <tr>\n",
       "      <th>3</th>\n",
       "      <td>4</td>\n",
       "      <td>1222</td>\n",
       "      <td>Andrew Archer</td>\n",
       "      <td>01:15:04</td>\n",
       "      <td>75</td>\n",
       "      <td>5.725191</td>\n",
       "    </tr>\n",
       "    <tr>\n",
       "      <th>4</th>\n",
       "      <td>5</td>\n",
       "      <td>1224</td>\n",
       "      <td>Brian Syring</td>\n",
       "      <td>01:15:30</td>\n",
       "      <td>75</td>\n",
       "      <td>5.725191</td>\n",
       "    </tr>\n",
       "  </tbody>\n",
       "</table>\n",
       "</div>"
      ],
      "text/plain": [
       "   Overall   Bib            Name      Time  Minutes  minutes_per_mile\n",
       "0        1   201  Roosevelt Cook  01:11:15       71          5.419847\n",
       "1        2   204     Bill Martin  01:11:50       71          5.419847\n",
       "2        3  1623    Cody Hodgins  01:13:43       73          5.572519\n",
       "3        4  1222   Andrew Archer  01:15:04       75          5.725191\n",
       "4        5  1224    Brian Syring  01:15:30       75          5.725191"
      ]
     },
     "execution_count": 10,
     "metadata": {},
     "output_type": "execute_result"
    }
   ],
   "source": [
    "half_2016.head()"
   ]
  },
  {
   "cell_type": "markdown",
   "metadata": {},
   "source": [
    "## Half 2017"
   ]
  },
  {
   "cell_type": "code",
   "execution_count": 11,
   "metadata": {},
   "outputs": [
    {
     "data": {
      "text/html": [
       "<div>\n",
       "<style scoped>\n",
       "    .dataframe tbody tr th:only-of-type {\n",
       "        vertical-align: middle;\n",
       "    }\n",
       "\n",
       "    .dataframe tbody tr th {\n",
       "        vertical-align: top;\n",
       "    }\n",
       "\n",
       "    .dataframe thead th {\n",
       "        text-align: right;\n",
       "    }\n",
       "</style>\n",
       "<table border=\"1\" class=\"dataframe\">\n",
       "  <thead>\n",
       "    <tr style=\"text-align: right;\">\n",
       "      <th></th>\n",
       "      <th>Overall</th>\n",
       "      <th>Bib</th>\n",
       "      <th>Name</th>\n",
       "      <th>Time</th>\n",
       "      <th>Minutes</th>\n",
       "      <th>minutes_per_mile</th>\n",
       "    </tr>\n",
       "  </thead>\n",
       "  <tbody>\n",
       "    <tr>\n",
       "      <th>0</th>\n",
       "      <td>1</td>\n",
       "      <td>202</td>\n",
       "      <td>Tyler Andrews</td>\n",
       "      <td>01:10:58</td>\n",
       "      <td>70</td>\n",
       "      <td>5.343511</td>\n",
       "    </tr>\n",
       "    <tr>\n",
       "      <th>1</th>\n",
       "      <td>2</td>\n",
       "      <td>204</td>\n",
       "      <td>Bill Martin</td>\n",
       "      <td>01:11:25</td>\n",
       "      <td>71</td>\n",
       "      <td>5.419847</td>\n",
       "    </tr>\n",
       "    <tr>\n",
       "      <th>2</th>\n",
       "      <td>3</td>\n",
       "      <td>206</td>\n",
       "      <td>Nick French</td>\n",
       "      <td>01:11:42</td>\n",
       "      <td>71</td>\n",
       "      <td>5.419847</td>\n",
       "    </tr>\n",
       "    <tr>\n",
       "      <th>3</th>\n",
       "      <td>4</td>\n",
       "      <td>201</td>\n",
       "      <td>Roosevelt Cook</td>\n",
       "      <td>01:13:20</td>\n",
       "      <td>73</td>\n",
       "      <td>5.572519</td>\n",
       "    </tr>\n",
       "    <tr>\n",
       "      <th>4</th>\n",
       "      <td>5</td>\n",
       "      <td>1655</td>\n",
       "      <td>Erick Kigen</td>\n",
       "      <td>01:14:56</td>\n",
       "      <td>74</td>\n",
       "      <td>5.648855</td>\n",
       "    </tr>\n",
       "  </tbody>\n",
       "</table>\n",
       "</div>"
      ],
      "text/plain": [
       "   Overall   Bib            Name      Time  Minutes  minutes_per_mile\n",
       "0        1   202   Tyler Andrews  01:10:58       70          5.343511\n",
       "1        2   204     Bill Martin  01:11:25       71          5.419847\n",
       "2        3   206     Nick French  01:11:42       71          5.419847\n",
       "3        4   201  Roosevelt Cook  01:13:20       73          5.572519\n",
       "4        5  1655     Erick Kigen  01:14:56       74          5.648855"
      ]
     },
     "execution_count": 11,
     "metadata": {},
     "output_type": "execute_result"
    }
   ],
   "source": [
    "half_2017.head()"
   ]
  },
  {
   "cell_type": "markdown",
   "metadata": {},
   "source": [
    "## Half 2018"
   ]
  },
  {
   "cell_type": "code",
   "execution_count": 12,
   "metadata": {},
   "outputs": [
    {
     "data": {
      "text/html": [
       "<div>\n",
       "<style scoped>\n",
       "    .dataframe tbody tr th:only-of-type {\n",
       "        vertical-align: middle;\n",
       "    }\n",
       "\n",
       "    .dataframe tbody tr th {\n",
       "        vertical-align: top;\n",
       "    }\n",
       "\n",
       "    .dataframe thead th {\n",
       "        text-align: right;\n",
       "    }\n",
       "</style>\n",
       "<table border=\"1\" class=\"dataframe\">\n",
       "  <thead>\n",
       "    <tr style=\"text-align: right;\">\n",
       "      <th></th>\n",
       "      <th>Overall</th>\n",
       "      <th>Bib</th>\n",
       "      <th>Name</th>\n",
       "      <th>Time</th>\n",
       "      <th>Minutes</th>\n",
       "      <th>minutes_per_mile</th>\n",
       "    </tr>\n",
       "  </thead>\n",
       "  <tbody>\n",
       "    <tr>\n",
       "      <th>0</th>\n",
       "      <td>1</td>\n",
       "      <td>103</td>\n",
       "      <td>Roosevelt Cook</td>\n",
       "      <td>01:09:25</td>\n",
       "      <td>69</td>\n",
       "      <td>5.267176</td>\n",
       "    </tr>\n",
       "    <tr>\n",
       "      <th>1</th>\n",
       "      <td>2</td>\n",
       "      <td>107</td>\n",
       "      <td>Lucas Cotter</td>\n",
       "      <td>01:09:51</td>\n",
       "      <td>69</td>\n",
       "      <td>5.267176</td>\n",
       "    </tr>\n",
       "    <tr>\n",
       "      <th>2</th>\n",
       "      <td>3</td>\n",
       "      <td>105</td>\n",
       "      <td>Nick French</td>\n",
       "      <td>01:10:38</td>\n",
       "      <td>70</td>\n",
       "      <td>5.343511</td>\n",
       "    </tr>\n",
       "    <tr>\n",
       "      <th>3</th>\n",
       "      <td>4</td>\n",
       "      <td>106</td>\n",
       "      <td>Jason Vincze</td>\n",
       "      <td>01:11:50</td>\n",
       "      <td>71</td>\n",
       "      <td>5.419847</td>\n",
       "    </tr>\n",
       "    <tr>\n",
       "      <th>4</th>\n",
       "      <td>5</td>\n",
       "      <td>104</td>\n",
       "      <td>Joseph Elsakr</td>\n",
       "      <td>01:13:28</td>\n",
       "      <td>73</td>\n",
       "      <td>5.572519</td>\n",
       "    </tr>\n",
       "  </tbody>\n",
       "</table>\n",
       "</div>"
      ],
      "text/plain": [
       "   Overall  Bib            Name      Time  Minutes  minutes_per_mile\n",
       "0        1  103  Roosevelt Cook  01:09:25       69          5.267176\n",
       "1        2  107    Lucas Cotter  01:09:51       69          5.267176\n",
       "2        3  105     Nick French  01:10:38       70          5.343511\n",
       "3        4  106    Jason Vincze  01:11:50       71          5.419847\n",
       "4        5  104   Joseph Elsakr  01:13:28       73          5.572519"
      ]
     },
     "execution_count": 12,
     "metadata": {},
     "output_type": "execute_result"
    }
   ],
   "source": [
    "half_2018.head()"
   ]
  },
  {
   "cell_type": "markdown",
   "metadata": {},
   "source": [
    "## Half 2019"
   ]
  },
  {
   "cell_type": "code",
   "execution_count": 13,
   "metadata": {},
   "outputs": [
    {
     "data": {
      "text/html": [
       "<div>\n",
       "<style scoped>\n",
       "    .dataframe tbody tr th:only-of-type {\n",
       "        vertical-align: middle;\n",
       "    }\n",
       "\n",
       "    .dataframe tbody tr th {\n",
       "        vertical-align: top;\n",
       "    }\n",
       "\n",
       "    .dataframe thead th {\n",
       "        text-align: right;\n",
       "    }\n",
       "</style>\n",
       "<table border=\"1\" class=\"dataframe\">\n",
       "  <thead>\n",
       "    <tr style=\"text-align: right;\">\n",
       "      <th></th>\n",
       "      <th>Overall</th>\n",
       "      <th>Bib</th>\n",
       "      <th>Name</th>\n",
       "      <th>Time</th>\n",
       "      <th>Minutes</th>\n",
       "      <th>minutes_per_mile</th>\n",
       "    </tr>\n",
       "  </thead>\n",
       "  <tbody>\n",
       "    <tr>\n",
       "      <th>0</th>\n",
       "      <td>1</td>\n",
       "      <td>31</td>\n",
       "      <td>Nick French</td>\n",
       "      <td>01:10:03</td>\n",
       "      <td>70</td>\n",
       "      <td>5.343511</td>\n",
       "    </tr>\n",
       "    <tr>\n",
       "      <th>1</th>\n",
       "      <td>2</td>\n",
       "      <td>33</td>\n",
       "      <td>Ian Bordelon</td>\n",
       "      <td>01:12:15</td>\n",
       "      <td>72</td>\n",
       "      <td>5.496183</td>\n",
       "    </tr>\n",
       "    <tr>\n",
       "      <th>2</th>\n",
       "      <td>3</td>\n",
       "      <td>32</td>\n",
       "      <td>Chris Demetra</td>\n",
       "      <td>01:12:52</td>\n",
       "      <td>72</td>\n",
       "      <td>5.496183</td>\n",
       "    </tr>\n",
       "    <tr>\n",
       "      <th>3</th>\n",
       "      <td>4</td>\n",
       "      <td>1025</td>\n",
       "      <td>Grayson Reid</td>\n",
       "      <td>01:15:10</td>\n",
       "      <td>75</td>\n",
       "      <td>5.725191</td>\n",
       "    </tr>\n",
       "    <tr>\n",
       "      <th>4</th>\n",
       "      <td>5</td>\n",
       "      <td>34</td>\n",
       "      <td>Jason Vincze</td>\n",
       "      <td>01:17:01</td>\n",
       "      <td>77</td>\n",
       "      <td>5.877863</td>\n",
       "    </tr>\n",
       "  </tbody>\n",
       "</table>\n",
       "</div>"
      ],
      "text/plain": [
       "   Overall   Bib           Name      Time  Minutes  minutes_per_mile\n",
       "0        1    31    Nick French  01:10:03       70          5.343511\n",
       "1        2    33   Ian Bordelon  01:12:15       72          5.496183\n",
       "2        3    32  Chris Demetra  01:12:52       72          5.496183\n",
       "3        4  1025   Grayson Reid  01:15:10       75          5.725191\n",
       "4        5    34   Jason Vincze  01:17:01       77          5.877863"
      ]
     },
     "execution_count": 13,
     "metadata": {},
     "output_type": "execute_result"
    }
   ],
   "source": [
    "half_2019.head()"
   ]
  },
  {
   "cell_type": "markdown",
   "metadata": {},
   "source": [
    "# Setting Top 5's - Full/Half Marathons"
   ]
  },
  {
   "cell_type": "code",
   "execution_count": 14,
   "metadata": {},
   "outputs": [],
   "source": [
    "full_2016_t5 = full_2016.head()\n",
    "full_2017_t5 = full_2017.head()\n",
    "full_2018_t5 = full_2018.head()\n",
    "full_2019_t5 = full_2019.head()\n",
    "half_2016_t5 = half_2016.head()\n",
    "half_2017_t5 = half_2017.head()\n",
    "half_2018_t5 = half_2018.head()\n",
    "half_2019_t5 = half_2019.head()"
   ]
  },
  {
   "cell_type": "code",
   "execution_count": 15,
   "metadata": {},
   "outputs": [
    {
     "name": "stdout",
     "output_type": "stream",
     "text": [
      " Full 2016: 8.5031054913352\n",
      " Full 2017: 7.956880996736255\n",
      " Full 2018: 10.962048616750604\n",
      " Full 2019: 7.74196789602464\n",
      " -----------------------------\n",
      " Half 2016: 9.236814797091865\n",
      " Half 2017: 9.915770967711119\n",
      " Half 2018: 11.56055775263923\n",
      " Half 2019: 9.205045714720942\n"
     ]
    }
   ],
   "source": [
    "avg_2016_full = full_2016['minutes_per_mile'].mean()\n",
    "avg_2017_full = full_2017['minutes_per_mile'].mean()\n",
    "avg_2018_full = full_2018['minutes_per_mile'].mean()\n",
    "avg_2019_full = full_2019['minutes_per_mile'].mean()\n",
    "avg_2016_half = half_2016['minutes_per_mile'].mean()\n",
    "avg_2017_half = half_2017['minutes_per_mile'].mean()\n",
    "avg_2018_half = half_2018['minutes_per_mile'].mean()\n",
    "avg_2019_half = half_2019['minutes_per_mile'].mean()\n",
    "print(' Full 2016: ' + str(avg_2016_full) + '\\n',\n",
    "      'Full 2017: ' + str(avg_2017_full) + '\\n',\n",
    "      'Full 2018: ' + str(avg_2018_full) + '\\n',\n",
    "      'Full 2019: ' + str(avg_2019_full) + '\\n',\n",
    "      '-----------------------------' + '\\n',\n",
    "      'Half 2016: ' + str(avg_2016_half) + '\\n',\n",
    "      'Half 2017: ' + str(avg_2017_half) + '\\n',\n",
    "      'Half 2018: ' + str(avg_2018_half) + '\\n',\n",
    "      'Half 2019: ' + str(avg_2019_half))"
   ]
  },
  {
   "cell_type": "code",
   "execution_count": 16,
   "metadata": {},
   "outputs": [
    {
     "data": {
      "text/plain": [
       "<matplotlib.axes._subplots.AxesSubplot at 0x1d1a4357a60>"
      ]
     },
     "execution_count": 16,
     "metadata": {},
     "output_type": "execute_result"
    },
    {
     "data": {
      "image/png": "[encoded data removed]",
      "text/plain": [
       "<Figure size 432x288 with 1 Axes>"
      ]
     },
     "metadata": {
      "needs_background": "light"
     },
     "output_type": "display_data"
    }
   ],
   "source": [
    "full_2016_t5.plot(x=\"Name\", y=[\"minutes_per_mile\"], kind=\"bar\")"
   ]
  },
  {
   "cell_type": "code",
   "execution_count": 17,
   "metadata": {
    "scrolled": true
   },
   "outputs": [
    {
     "name": "stderr",
     "output_type": "stream",
     "text": [
      "<ipython-input-17-0e9c7b0f4bb7>:1: SettingWithCopyWarning: \n",
      "A value is trying to be set on a copy of a slice from a DataFrame.\n",
      "Try using .loc[row_indexer,col_indexer] = value instead\n",
      "\n",
      "See the caveats in the documentation: https://pandas.pydata.org/pandas-docs/stable/user_guide/indexing.html#returning-a-view-versus-a-copy\n",
      "  full_2016_t5['type'] = 'full'\n",
      "<ipython-input-17-0e9c7b0f4bb7>:2: SettingWithCopyWarning: \n",
      "A value is trying to be set on a copy of a slice from a DataFrame.\n",
      "Try using .loc[row_indexer,col_indexer] = value instead\n",
      "\n",
      "See the caveats in the documentation: https://pandas.pydata.org/pandas-docs/stable/user_guide/indexing.html#returning-a-view-versus-a-copy\n",
      "  full_2017_t5['type'] = 'full'\n",
      "<ipython-input-17-0e9c7b0f4bb7>:3: SettingWithCopyWarning: \n",
      "A value is trying to be set on a copy of a slice from a DataFrame.\n",
      "Try using .loc[row_indexer,col_indexer] = value instead\n",
      "\n",
      "See the caveats in the documentation: https://pandas.pydata.org/pandas-docs/stable/user_guide/indexing.html#returning-a-view-versus-a-copy\n",
      "  full_2018_t5['type'] = 'full'\n",
      "<ipython-input-17-0e9c7b0f4bb7>:4: SettingWithCopyWarning: \n",
      "A value is trying to be set on a copy of a slice from a DataFrame.\n",
      "Try using .loc[row_indexer,col_indexer] = value instead\n",
      "\n",
      "See the caveats in the documentation: https://pandas.pydata.org/pandas-docs/stable/user_guide/indexing.html#returning-a-view-versus-a-copy\n",
      "  full_2019_t5['type'] = 'full'\n",
      "<ipython-input-17-0e9c7b0f4bb7>:5: SettingWithCopyWarning: \n",
      "A value is trying to be set on a copy of a slice from a DataFrame.\n",
      "Try using .loc[row_indexer,col_indexer] = value instead\n",
      "\n",
      "See the caveats in the documentation: https://pandas.pydata.org/pandas-docs/stable/user_guide/indexing.html#returning-a-view-versus-a-copy\n",
      "  half_2016_t5['type'] = 'half'\n",
      "<ipython-input-17-0e9c7b0f4bb7>:6: SettingWithCopyWarning: \n",
      "A value is trying to be set on a copy of a slice from a DataFrame.\n",
      "Try using .loc[row_indexer,col_indexer] = value instead\n",
      "\n",
      "See the caveats in the documentation: https://pandas.pydata.org/pandas-docs/stable/user_guide/indexing.html#returning-a-view-versus-a-copy\n",
      "  half_2017_t5['type'] = 'half'\n",
      "<ipython-input-17-0e9c7b0f4bb7>:7: SettingWithCopyWarning: \n",
      "A value is trying to be set on a copy of a slice from a DataFrame.\n",
      "Try using .loc[row_indexer,col_indexer] = value instead\n",
      "\n",
      "See the caveats in the documentation: https://pandas.pydata.org/pandas-docs/stable/user_guide/indexing.html#returning-a-view-versus-a-copy\n",
      "  half_2018_t5['type'] = 'half'\n",
      "<ipython-input-17-0e9c7b0f4bb7>:8: SettingWithCopyWarning: \n",
      "A value is trying to be set on a copy of a slice from a DataFrame.\n",
      "Try using .loc[row_indexer,col_indexer] = value instead\n",
      "\n",
      "See the caveats in the documentation: https://pandas.pydata.org/pandas-docs/stable/user_guide/indexing.html#returning-a-view-versus-a-copy\n",
      "  half_2019_t5['type'] = 'half'\n"
     ]
    }
   ],
   "source": [
    "full_2016_t5['type'] = 'full'\n",
    "full_2017_t5['type'] = 'full'\n",
    "full_2018_t5['type'] = 'full'\n",
    "full_2019_t5['type'] = 'full'\n",
    "half_2016_t5['type'] = 'half'\n",
    "half_2017_t5['type'] = 'half'\n",
    "half_2018_t5['type'] = 'half'\n",
    "half_2019_t5['type'] = 'half'"
   ]
  },
  {
   "cell_type": "code",
   "execution_count": 18,
   "metadata": {},
   "outputs": [],
   "source": [
    "both_2016 = pd.merge(full_2016_t5, half_2016_t5,\n",
    "                    how='outer')\n",
    "both_2017 = pd.merge(full_2017_t5, half_2017_t5,\n",
    "                    how='outer')\n",
    "both_2018 = pd.merge(full_2018_t5, half_2018_t5,\n",
    "                    how='outer')\n",
    "both_2019 = pd.merge(full_2019_t5, half_2019_t5,\n",
    "                    how='outer')"
   ]
  },
  {
   "cell_type": "code",
   "execution_count": 38,
   "metadata": {},
   "outputs": [
    {
     "data": {
      "image/png": "[encoded data removed]",
      "text/plain": [
       "<Figure size 432x288 with 1 Axes>"
      ]
     },
     "metadata": {
      "needs_background": "light"
     },
     "output_type": "display_data"
    }
   ],
   "source": [
    "sns.swarmplot(x=both_2016.type, y=both_2016.minutes_per_mile)\n",
    "plt.title('Full/Half Top 5 Comparison - 2016')\n",
    "plt.ylabel('Minutes Per Mile');"
   ]
  },
  {
   "cell_type": "code",
   "execution_count": 25,
   "metadata": {},
   "outputs": [
    {
     "data": {
      "image/png": "[encoded data removed]",
      "text/plain": [
       "<Figure size 432x288 with 1 Axes>"
      ]
     },
     "metadata": {
      "needs_background": "light"
     },
     "output_type": "display_data"
    }
   ],
   "source": [
    "sns.swarmplot(x=both_2017.type, y=both_2017.minutes_per_mile);\n",
    "plt.title('Full/Half Top 5 Comparison - 2017')\n",
    "plt.ylabel('Minutes Per Mile');"
   ]
  },
  {
   "cell_type": "code",
   "execution_count": 26,
   "metadata": {},
   "outputs": [
    {
     "data": {
      "image/png": "[encoded data removed]",
      "text/plain": [
       "<Figure size 432x288 with 1 Axes>"
      ]
     },
     "metadata": {
      "needs_background": "light"
     },
     "output_type": "display_data"
    }
   ],
   "source": [
    "sns.swarmplot(x=both_2018.type, y=both_2018.minutes_per_mile);\n",
    "plt.title('Full/Half Top 5 Comparison - 2018')\n",
    "plt.ylabel('Minutes Per Mile');"
   ]
  },
  {
   "cell_type": "code",
   "execution_count": 27,
   "metadata": {},
   "outputs": [
    {
     "data": {
      "image/png": "[encoded data removed]",
      "text/plain": [
       "<Figure size 432x288 with 1 Axes>"
      ]
     },
     "metadata": {
      "needs_background": "light"
     },
     "output_type": "display_data"
    }
   ],
   "source": [
    "sns.swarmplot(x=both_2019.type, y=both_2019.minutes_per_mile);\n",
    "plt.title('Full/Half Top 5 Comparison - 2019')\n",
    "plt.ylabel('Minutes Per Mile');"
   ]
  },
  {
   "cell_type": "code",
   "execution_count": null,
   "metadata": {},
   "outputs": [],
   "source": []
  }
 ],
 "metadata": {
  "kernelspec": {
   "display_name": "Python 3",
   "language": "python",
   "name": "python3"
  },
  "language_info": {
   "codemirror_mode": {
    "name": "ipython",
    "version": 3
   },
   "file_extension": ".py",
   "mimetype": "text/x-python",
   "name": "python",
   "nbconvert_exporter": "python",
   "pygments_lexer": "ipython3",
   "version": "3.8.3"
  }
 },
 "nbformat": 4,
 "nbformat_minor": 4
}
